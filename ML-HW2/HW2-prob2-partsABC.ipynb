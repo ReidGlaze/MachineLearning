{
 "cells": [
  {
   "cell_type": "code",
   "execution_count": 64,
   "id": "9acb7a75-6d3f-47c8-9b16-40ee01cedbd5",
   "metadata": {},
   "outputs": [],
   "source": [
    "import numpy as np\n",
    "import pandas as pd\n",
    "import matplotlib.pyplot as plt\n",
    "from itertools import combinations_with_replacement"
   ]
  },
  {
   "cell_type": "code",
   "execution_count": 65,
   "id": "a555aa0f-6144-4e73-8a83-b33571b0fd65",
   "metadata": {},
   "outputs": [
    {
     "data": {
      "text/html": [
       "<div>\n",
       "<style scoped>\n",
       "    .dataframe tbody tr th:only-of-type {\n",
       "        vertical-align: middle;\n",
       "    }\n",
       "\n",
       "    .dataframe tbody tr th {\n",
       "        vertical-align: top;\n",
       "    }\n",
       "\n",
       "    .dataframe thead th {\n",
       "        text-align: right;\n",
       "    }\n",
       "</style>\n",
       "<table border=\"1\" class=\"dataframe\">\n",
       "  <thead>\n",
       "    <tr style=\"text-align: right;\">\n",
       "      <th></th>\n",
       "      <th>X1</th>\n",
       "      <th>X2</th>\n",
       "      <th>y</th>\n",
       "    </tr>\n",
       "  </thead>\n",
       "  <tbody>\n",
       "    <tr>\n",
       "      <th>0</th>\n",
       "      <td>0.713</td>\n",
       "      <td>-0.345</td>\n",
       "      <td>-9.441</td>\n",
       "    </tr>\n",
       "    <tr>\n",
       "      <th>1</th>\n",
       "      <td>-0.245</td>\n",
       "      <td>1.684</td>\n",
       "      <td>2.795</td>\n",
       "    </tr>\n",
       "    <tr>\n",
       "      <th>2</th>\n",
       "      <td>1.388</td>\n",
       "      <td>-0.395</td>\n",
       "      <td>-6.032</td>\n",
       "    </tr>\n",
       "    <tr>\n",
       "      <th>3</th>\n",
       "      <td>1.556</td>\n",
       "      <td>-1.351</td>\n",
       "      <td>1.558</td>\n",
       "    </tr>\n",
       "    <tr>\n",
       "      <th>4</th>\n",
       "      <td>-1.162</td>\n",
       "      <td>-0.213</td>\n",
       "      <td>2.496</td>\n",
       "    </tr>\n",
       "  </tbody>\n",
       "</table>\n",
       "</div>"
      ],
      "text/plain": [
       "      X1     X2      y\n",
       "0  0.713 -0.345 -9.441\n",
       "1 -0.245  1.684  2.795\n",
       "2  1.388 -0.395 -6.032\n",
       "3  1.556 -1.351  1.558\n",
       "4 -1.162 -0.213  2.496"
      ]
     },
     "execution_count": 65,
     "metadata": {},
     "output_type": "execute_result"
    }
   ],
   "source": [
    "df = pd.read_csv('Regression.txt', sep=',', header=None, names=[\"X1\", \"X2\", \"y\"])\n",
    "df = df[:250]\n",
    "df.head()"
   ]
  },
  {
   "cell_type": "code",
   "execution_count": 66,
   "id": "cb40952d-9c5a-4fda-bf73-aa1ea927249f",
   "metadata": {},
   "outputs": [],
   "source": [
    "shuffle_df = df.sample(frac=1)\n",
    "train_size = int(0.8 * len(df))\n",
    "train_set = shuffle_df[:train_size]\n",
    "test_set = shuffle_df[train_size:]"
   ]
  },
  {
   "cell_type": "code",
   "execution_count": 67,
   "id": "5571c39d-aa15-4d0a-beb9-df38a568276e",
   "metadata": {},
   "outputs": [],
   "source": [
    "X_train = train_set[['X1', 'X2']].to_numpy()\n",
    "X_test = test_set[['X1', 'X2']].to_numpy()\n",
    "y_train = train_set[['y']].to_numpy()\n",
    "y_test = test_set[['y']].to_numpy()"
   ]
  },
  {
   "cell_type": "code",
   "execution_count": 68,
   "id": "ed45c473-573e-4fdd-a8b0-802c70cca926",
   "metadata": {},
   "outputs": [
    {
     "name": "stdout",
     "output_type": "stream",
     "text": [
      "(200, 2)\n",
      "(200, 1)\n",
      "(50, 2)\n",
      "(50, 1)\n"
     ]
    }
   ],
   "source": [
    "print(X_train.shape)\n",
    "print(y_train.shape)\n",
    "print(X_test.shape)\n",
    "print(y_test.shape)"
   ]
  },
  {
   "cell_type": "code",
   "execution_count": 69,
   "id": "37ae6a3f-159a-49a4-8dad-cb4142821091",
   "metadata": {},
   "outputs": [],
   "source": [
    "def get_powers(degree):\n",
    "    l=[0,1]\n",
    "    powers=[]\n",
    "    for i in range(1,degree+1):\n",
    "        powers.append([x for x in combinations_with_replacement(l,i)])\n",
    "    powers_flattened=[]\n",
    "    for sublist in powers:\n",
    "        for x in sublist:\n",
    "            powers_flattened.append(x)\n",
    "    return powers_flattened"
   ]
  },
  {
   "cell_type": "code",
   "execution_count": 70,
   "id": "e9abf63a-7ddd-4365-a877-49b8b14608b5",
   "metadata": {},
   "outputs": [],
   "source": [
    "def transform_data(X,powers):\n",
    "    X_new=np.ones((X.shape[0],len(powers)))\n",
    "    for n in range(X.shape[0]):\n",
    "        #print(n)\n",
    "        for i in range(len(powers)):\n",
    "            for j in powers[i]:\n",
    "                X_new[n][i]=X_new[n][i]*X[n][j]\n",
    "    return X_new"
   ]
  },
  {
   "cell_type": "code",
   "execution_count": 71,
   "id": "ba6430e3-e97f-4db8-b128-7801d7ab10fc",
   "metadata": {},
   "outputs": [
    {
     "name": "stdout",
     "output_type": "stream",
     "text": [
      "For each polynomial 0 represents X1, 1 represents X2 \n",
      "\n",
      "Polynomial 1\n",
      "[(0,), (1,)] \n",
      "\n",
      "Polynomial 2\n",
      "[(0,), (1,), (0, 0), (0, 1), (1, 1)] \n",
      "\n",
      "Polynomial 3\n",
      "[(0,), (1,), (0, 0), (0, 1), (1, 1), (0, 0, 0), (0, 0, 1), (0, 1, 1), (1, 1, 1)] \n",
      "\n",
      "Polynomial 4\n",
      "[(0,), (1,), (0, 0), (0, 1), (1, 1), (0, 0, 0), (0, 0, 1), (0, 1, 1), (1, 1, 1), (0, 0, 0, 0), (0, 0, 0, 1), (0, 0, 1, 1), (0, 1, 1, 1), (1, 1, 1, 1)]\n"
     ]
    }
   ],
   "source": [
    "powers_1=get_powers(1)\n",
    "powers_2=get_powers(2)\n",
    "powers_3=get_powers(3)\n",
    "powers_4=get_powers(4)\n",
    "print('For each polynomial 0 represents X1, 1 represents X2 \\n')\n",
    "print('Polynomial 1')\n",
    "print(powers_1, '\\n')\n",
    "print('Polynomial 2')\n",
    "print(powers_2, '\\n')\n",
    "print('Polynomial 3')\n",
    "print(powers_3, '\\n')\n",
    "print('Polynomial 4')\n",
    "print(powers_4)"
   ]
  },
  {
   "cell_type": "code",
   "execution_count": 72,
   "id": "59fc52ee-d929-4d66-be31-27ffe382a38b",
   "metadata": {},
   "outputs": [],
   "source": [
    "X_train_1=transform_data(X_train,powers_1)\n",
    "X_train_2=transform_data(X_train,powers_2)\n",
    "X_train_3=transform_data(X_train,powers_3)\n",
    "X_train_4=transform_data(X_train,powers_4)\n",
    "X_test_1=transform_data(X_test,powers_1)\n",
    "X_test_2=transform_data(X_test,powers_2)\n",
    "X_test_3=transform_data(X_test,powers_3)\n",
    "X_test_4=transform_data(X_test,powers_4)"
   ]
  },
  {
   "cell_type": "code",
   "execution_count": 73,
   "id": "915858c2-2e44-4b51-b0f2-819eea7696d1",
   "metadata": {},
   "outputs": [
    {
     "name": "stdout",
     "output_type": "stream",
     "text": [
      "New X for each polynomial\n",
      "\n",
      "Polynomial 1\n",
      "[[ 0.574 -1.885]\n",
      " [-0.151 -0.094]] \n",
      "\n",
      "Polynomial 2\n",
      "[[ 0.574    -1.885     0.329476 -1.08199   3.553225]\n",
      " [-0.151    -0.094     0.022801  0.014194  0.008836]] \n",
      "\n",
      "Polynomial 3\n",
      "[[ 5.74000000e-01 -1.88500000e+00  3.29476000e-01 -1.08199000e+00\n",
      "   3.55322500e+00  1.89119224e-01 -6.21062260e-01  2.03955115e+00\n",
      "  -6.69782913e+00]\n",
      " [-1.51000000e-01 -9.40000000e-02  2.28010000e-02  1.41940000e-02\n",
      "   8.83600000e-03 -3.44295100e-03 -2.14329400e-03 -1.33423600e-03\n",
      "  -8.30584000e-04]] \n",
      "\n",
      "Polynomial 4\n",
      "[[ 5.74000000e-01 -1.88500000e+00  3.29476000e-01 -1.08199000e+00\n",
      "   3.55322500e+00  1.89119224e-01 -6.21062260e-01  2.03955115e+00\n",
      "  -6.69782913e+00  1.08554435e-01 -3.56489737e-01  1.17070236e+00\n",
      "  -3.84455392e+00  1.26254079e+01]\n",
      " [-1.51000000e-01 -9.40000000e-02  2.28010000e-02  1.41940000e-02\n",
      "   8.83600000e-03 -3.44295100e-03 -2.14329400e-03 -1.33423600e-03\n",
      "  -8.30584000e-04  5.19885601e-04  3.23637394e-04  2.01469636e-04\n",
      "   1.25418184e-04  7.80748960e-05]]\n"
     ]
    }
   ],
   "source": [
    "print('New X for each polynomial\\n')\n",
    "print('Polynomial 1')\n",
    "print(X_train_1[0:2], '\\n')\n",
    "print('Polynomial 2')\n",
    "print(X_train_2[0:2], '\\n')\n",
    "print('Polynomial 3')\n",
    "print(X_train_3[0:2], '\\n')\n",
    "print('Polynomial 4')\n",
    "print(X_train_4[0:2])"
   ]
  },
  {
   "cell_type": "markdown",
   "id": "9c17d596-74c5-40d6-aa36-ddfc282a6eec",
   "metadata": {},
   "source": [
    "Starting code for Linear gradient descent"
   ]
  },
  {
   "cell_type": "code",
   "execution_count": 74,
   "id": "41799b02-1faf-43c7-8692-e378079f7964",
   "metadata": {},
   "outputs": [],
   "source": [
    "def initialize_parameters(lenw):\n",
    "    #w = np.random.randn(1,lenw)\n",
    "    w = np.zeros((1,lenw))\n",
    "    b = 0\n",
    "    return w,b"
   ]
  },
  {
   "cell_type": "code",
   "execution_count": 75,
   "id": "bbb630ce-7395-4ed6-8d46-6c9393c9b406",
   "metadata": {},
   "outputs": [],
   "source": [
    "def forward_prop(X,w,b):\n",
    "    z = np.dot(w,X) + b\n",
    "    return z"
   ]
  },
  {
   "cell_type": "code",
   "execution_count": 76,
   "id": "f3fa581a-1414-43b7-b251-2f59a7157d5c",
   "metadata": {},
   "outputs": [],
   "source": [
    "def cost_function(z,y):\n",
    "    m = y.shape[1]\n",
    "    J=(1/(2*m))*np.sum(np.square(z-y))\n",
    "    return J"
   ]
  },
  {
   "cell_type": "code",
   "execution_count": 77,
   "id": "9d7ef9cf-51e9-401b-8da2-60c3b7dfe842",
   "metadata": {},
   "outputs": [],
   "source": [
    "def back_prop(X,y,z):\n",
    "    m = y.shape[1]\n",
    "    dz = (1/m)*(z-y)\n",
    "    dw = np.dot(dz,X.T)\n",
    "    db = np.sum(dz)\n",
    "    return dw,db"
   ]
  },
  {
   "cell_type": "code",
   "execution_count": 78,
   "id": "1815d0c7-a4f3-4302-8bde-46d0273bbd72",
   "metadata": {},
   "outputs": [],
   "source": [
    "def gradient_descent_update(w,b,dw,db,learning_rate):\n",
    "    w = w - learning_rate*dw\n",
    "    b = b - learning_rate*db\n",
    "    return w,b"
   ]
  },
  {
   "cell_type": "code",
   "execution_count": 79,
   "id": "6038603e-cae6-4250-ba3b-5de67679cc8b",
   "metadata": {},
   "outputs": [],
   "source": [
    "def linear_regression_model(X_train, y_train, X_val, y_val, learning_rate, epochs):\n",
    "    lenw = X_train.shape[0]\n",
    "    w,b = initialize_parameters(lenw)\n",
    "    \n",
    "    \n",
    "    costs_train = []\n",
    "    \n",
    "    m_train = X_train.shape[1]\n",
    "    m_val = X_val.shape[1]\n",
    "    \n",
    "    for i in range(1,epochs+1):\n",
    "        z_train = forward_prop(X_train,w,b)\n",
    "        cost_train = cost_function(z_train, y_train)\n",
    "        dw,db = back_prop(X_train, y_train, z_train)\n",
    "        w,b = gradient_descent_update(w,b,dw,db,learning_rate)\n",
    "        \n",
    "        dw_avg = np.mean(np.abs(dw))\n",
    "        \n",
    "        #break if mean gradient is below tolerance\n",
    "        #if dw_avg <= tolerance:\n",
    "            #if i < epochs:\n",
    "            #    learning_rate = learning_rate - 0.0002\n",
    "            #    linear_regression_model(X_train,y_train,X_val,y_val,learning_rate,epochs,0.2)\n",
    "            #    \n",
    "            #    print('yes')\n",
    "            #if i == epochs:\n",
    "            #    print('Epochs ' +str(i)+'/'+str(epochs)+': ')\n",
    "            #    print('Training cost '+str(cost_train)+ '|'+'Validation cost '+str(cost_val))\n",
    "            #    print('MSE cost '+str(MAE_train)+ '|'+'Validation MSE '+str(MSE_val))\n",
    "            #    print('gradient' +str(dw))\n",
    "            #    print('The final learning rate used is: '+ str(learning_rate))\n",
    "            #    print('-------------------------------')\n",
    "            #    plt.plot(costs_train)\n",
    "            #    plt.xlabel('iterations')\n",
    "            #    plt.ylabel('Training cost')\n",
    "            #    plt.title('Learning rate '+str(learning_rate))\n",
    "            #    plt.show()\n",
    "                \n",
    "            #break\n",
    "        \n",
    "        \n",
    "        if i%10==0:\n",
    "            costs_train.append(cost_train)\n",
    "            \n",
    "        MAE_train = (1/m_train)*np.sum(np.abs(z_train-y_train))\n",
    "        MSE_train = (1/m_train)*np.sum(np.square(z_train-y_train))\n",
    "        \n",
    "        z_val = forward_prop(X_val,w,b)\n",
    "        cost_val = cost_function(z_val, y_val)\n",
    "        MAE_val = (1/m_val)*np.sum(np.abs(z_val-y_val))\n",
    "        MSE_val = (1/m_val)*np.sum(np.square(z_val-y_val))\n",
    "        #print('Epochs ' +str(i)+'/'+str(epochs)+': ')\n",
    "        #print('Training cost '+str(cost_train)+ '|'+'Validation cost '+str(cost_val))\n",
    "        #print('MAE cost '+str(MAE_train)+ '|'+'Validation MAE '+str(MAE_val))\n",
    "        #print('MSE cost '+str(MAE_train)+ '|'+'Validation MSE '+str(MSE_val))\n",
    "        #print('gradient' +str(dw))\n",
    "        #print(dw_avg)\n",
    "\n",
    "    print('Epochs ' +str(i)+'/'+str(epochs)+': ')\n",
    "    print('Training cost '+str(cost_train)+ '|'+'Validation cost '+str(cost_val))\n",
    "    #print('MSE cost '+str(MAE_train)+ '|'+'Validation MSE '+str(MSE_val))\n",
    "    #print('gradient' +str(dw))\n",
    "    print('The final average gradient is: '+ str(dw_avg))\n",
    "    print('The final learning rate used is: '+ str(learning_rate))\n",
    "    print('The Mean square error is: '+ str(MSE_val))\n",
    "    print('-------------------------------')\n",
    "    #plt.plot(costs_train)\n",
    "    #plt.xlabel('iterations')\n",
    "    #plt.ylabel('Training cost')\n",
    "    #plt.title('Learning rate '+str(learning_rate))\n",
    "    #plt.show()\n",
    "\n",
    "    \n",
    "    return costs_train, learning_rate, cost_train, cost_val"
   ]
  },
  {
   "cell_type": "code",
   "execution_count": 80,
   "id": "a922570b-fc74-46d7-8e5c-99448fa65436",
   "metadata": {},
   "outputs": [],
   "source": [
    "#Flip to fit gradient descent code\n",
    "X_train=X_train.T\n",
    "X_val=X_test.T\n",
    "X_train_1=X_train_1.T\n",
    "X_train_2=X_train_2.T\n",
    "X_train_3=X_train_3.T\n",
    "X_train_4=X_train_4.T\n",
    "X_val_1=X_test_1.T\n",
    "X_val_2=X_test_2.T\n",
    "X_val_3=X_test_3.T\n",
    "X_val_4=X_test_4.T\n",
    "y_train=y_train.T\n",
    "y_val=y_test.T"
   ]
  },
  {
   "cell_type": "code",
   "execution_count": 81,
   "id": "e682e737-d0d8-4688-89db-6de4db5c57ac",
   "metadata": {},
   "outputs": [
    {
     "name": "stdout",
     "output_type": "stream",
     "text": [
      "(5, 200)\n",
      "(1, 200)\n",
      "(5, 50)\n",
      "(1, 50)\n"
     ]
    }
   ],
   "source": [
    "print(X_train_2.shape)\n",
    "print(y_train.shape)\n",
    "print(X_val_2.shape)\n",
    "print(y_val.shape)"
   ]
  },
  {
   "cell_type": "code",
   "execution_count": 82,
   "id": "0f989ffc-9888-4c83-9638-26c2dbce95f7",
   "metadata": {},
   "outputs": [
    {
     "name": "stdout",
     "output_type": "stream",
     "text": [
      "Epochs 20/20: \n",
      "Training cost 12.36719265121272|Validation cost 15.968554275809344\n",
      "The final average gradient is: 0.11112276895688249\n",
      "The final learning rate used is: 0.12\n",
      "The Mean square error is: 31.93710855161869\n",
      "-------------------------------\n",
      "Epochs 20/20: \n",
      "Training cost 5.409900058000931|Validation cost 8.437905775302943\n",
      "The final average gradient is: 0.058161195165260346\n",
      "The final learning rate used is: 0.12\n",
      "The Mean square error is: 16.875811550605885\n",
      "-------------------------------\n",
      "Epochs 20/20: \n",
      "Training cost 4.197446986736064|Validation cost 5.765788426919702\n",
      "The final average gradient is: 0.08114179738508304\n",
      "The final learning rate used is: 0.08\n",
      "The Mean square error is: 11.531576853839404\n",
      "-------------------------------\n",
      "Epochs 20/20: \n",
      "Training cost 4.587815094336155|Validation cost 5.928048378780054\n",
      "The final average gradient is: 0.1361250345341026\n",
      "The final learning rate used is: 0.02\n",
      "The Mean square error is: 11.856096757560108\n",
      "-------------------------------\n"
     ]
    }
   ],
   "source": [
    "costs120, learning120, trainingloss120, validationloss120 = linear_regression_model(X_train_1,y_train,X_val_1,y_val,0.12,20)\n",
    "costs220, learning220, trainingloss220, validationloss220 = linear_regression_model(X_train_2,y_train,X_val_2,y_val,0.12,20)\n",
    "costs320, learning320, trainingloss320, validationloss320 = linear_regression_model(X_train_3,y_train,X_val_3,y_val,0.08,20)\n",
    "costs420, learning320, trainingloss420, validationloss420 = linear_regression_model(X_train_4,y_train,X_val_4,y_val,0.02,20)"
   ]
  },
  {
   "cell_type": "code",
   "execution_count": 83,
   "id": "6a100cfe-8fc2-4663-a9f9-4b0b6df904ed",
   "metadata": {},
   "outputs": [
    {
     "data": {
      "image/png": "[encoded data removed]",
      "text/plain": [
       "<Figure size 432x288 with 1 Axes>"
      ]
     },
     "metadata": {
      "needs_background": "light"
     },
     "output_type": "display_data"
    }
   ],
   "source": [
    "plt.plot(costs120)\n",
    "plt.plot(costs220)\n",
    "plt.plot(costs320)\n",
    "plt.plot(costs420)\n",
    "plt.xlabel('iterations')\n",
    "plt.ylabel('Training Loss')\n",
    "plt.legend([\"degree 1\", \"degree 2\", \"degree 3\", \"degree 4\"])\n",
    "plt.show()\n"
   ]
  },
  {
   "cell_type": "code",
   "execution_count": 84,
   "id": "1c5d0a26-f05d-43be-a8e2-de823ca2ce1a",
   "metadata": {},
   "outputs": [
    {
     "name": "stdout",
     "output_type": "stream",
     "text": [
      "Epochs 40/40: \n",
      "Training cost 12.329060636459117|Validation cost 16.142457754020526\n",
      "The final average gradient is: 0.006611266531208704\n",
      "The final learning rate used is: 0.12\n",
      "The Mean square error is: 32.28491550804105\n",
      "-------------------------------\n",
      "Epochs 40/40: \n",
      "Training cost 5.318736920148479|Validation cost 8.422942789676092\n",
      "The final average gradient is: 0.015025154184691076\n",
      "The final learning rate used is: 0.12\n",
      "The Mean square error is: 16.845885579352185\n",
      "-------------------------------\n",
      "Epochs 40/40: \n",
      "Training cost 4.018092283125011|Validation cost 5.5114688609422124\n",
      "The final average gradient is: 0.02409400579459918\n",
      "The final learning rate used is: 0.1\n",
      "The Mean square error is: 11.022937721884425\n",
      "-------------------------------\n",
      "Epochs 40/40: \n",
      "Training cost 4.3932297171946155|Validation cost 5.7749087794522636\n",
      "The final average gradient is: 0.13744542590128028\n",
      "The final learning rate used is: 0.03\n",
      "The Mean square error is: 11.549817558904527\n",
      "-------------------------------\n"
     ]
    }
   ],
   "source": [
    "costs140, learning140, trainingloss140, validationloss140 = linear_regression_model(X_train_1,y_train,X_val_1,y_val,0.12,40)\n",
    "costs240, learning240, trainingloss240, validationloss240 = linear_regression_model(X_train_2,y_train,X_val_2,y_val,0.12,40)\n",
    "costs340, learning340, trainingloss340, validationloss340 = linear_regression_model(X_train_3,y_train,X_val_3,y_val,0.1,40)\n",
    "costs440, learning340, trainingloss440, validationloss440 = linear_regression_model(X_train_4,y_train,X_val_4,y_val,0.03,40)"
   ]
  },
  {
   "cell_type": "code",
   "execution_count": 85,
   "id": "57514df2-6de4-4c10-90d2-e3d5def495bd",
   "metadata": {},
   "outputs": [
    {
     "data": {
      "image/png": "[encoded data removed]",
      "text/plain": [
       "<Figure size 432x288 with 1 Axes>"
      ]
     },
     "metadata": {
      "needs_background": "light"
     },
     "output_type": "display_data"
    }
   ],
   "source": [
    "plt.plot(costs140)\n",
    "plt.plot(costs240)\n",
    "plt.plot(costs340)\n",
    "plt.plot(costs440)\n",
    "plt.xlabel('iterations')\n",
    "plt.ylabel('Training Loss')\n",
    "plt.legend([\"degree 1\", \"degree 2\", \"degree 3\", \"degree 4\"])\n",
    "plt.show()"
   ]
  },
  {
   "cell_type": "code",
   "execution_count": 86,
   "id": "0fa39014-4b97-4df3-a492-4f2fcf61e363",
   "metadata": {},
   "outputs": [
    {
     "name": "stdout",
     "output_type": "stream",
     "text": [
      "Epochs 60/60: \n",
      "Training cost 12.32878695360108|Validation cost 16.15281428667083\n",
      "The final average gradient is: 0.0005815788430556378\n",
      "The final learning rate used is: 0.12\n",
      "The Mean square error is: 32.30562857334166\n",
      "-------------------------------\n",
      "Epochs 60/60: \n",
      "Training cost 5.293743610912647|Validation cost 8.443256282347978\n",
      "The final average gradient is: 0.008300722075667434\n",
      "The final learning rate used is: 0.12\n",
      "The Mean square error is: 16.886512564695956\n",
      "-------------------------------\n",
      "Epochs 60/60: \n",
      "Training cost 3.973847134582607|Validation cost 5.4795882082719665\n",
      "The final average gradient is: 0.015450921094728136\n",
      "The final learning rate used is: 0.1\n",
      "The Mean square error is: 10.959176416543933\n",
      "-------------------------------\n",
      "Epochs 60/60: \n",
      "Training cost 4.389928556444289|Validation cost 5.76188197239737\n",
      "The final average gradient is: 0.07528020693988098\n",
      "The final learning rate used is: 0.02\n",
      "The Mean square error is: 11.52376394479474\n",
      "-------------------------------\n"
     ]
    }
   ],
   "source": [
    "costs160, learning160, trainingloss160, validationloss160 = linear_regression_model(X_train_1,y_train,X_val_1,y_val,0.12,60)\n",
    "costs260, learning260, trainingloss260, validationloss260 = linear_regression_model(X_train_2,y_train,X_val_2,y_val,0.12,60)\n",
    "costs360, learning360, trainingloss360, validationloss360 = linear_regression_model(X_train_3,y_train,X_val_3,y_val,0.1,60)\n",
    "costs460, learning460, trainingloss460, validationloss460 = linear_regression_model(X_train_4,y_train,X_val_4,y_val,0.02,60)"
   ]
  },
  {
   "cell_type": "code",
   "execution_count": 87,
   "id": "ddc834a8-beea-429c-a687-efca57b26810",
   "metadata": {},
   "outputs": [
    {
     "data": {
      "image/png": "[encoded data removed]",
      "text/plain": [
       "<Figure size 432x288 with 1 Axes>"
      ]
     },
     "metadata": {
      "needs_background": "light"
     },
     "output_type": "display_data"
    }
   ],
   "source": [
    "plt.plot(costs160)\n",
    "plt.plot(costs260)\n",
    "plt.plot(costs360)\n",
    "plt.plot(costs460)\n",
    "plt.xlabel('iterations')\n",
    "plt.ylabel('Training Loss')\n",
    "plt.legend([\"degree 1\", \"degree 2\", \"degree 3\", \"degree 4\"])\n",
    "plt.show()"
   ]
  },
  {
   "cell_type": "code",
   "execution_count": 88,
   "id": "b0f1aa23-725a-45f8-bf62-941ef9e5cfc7",
   "metadata": {},
   "outputs": [
    {
     "name": "stdout",
     "output_type": "stream",
     "text": [
      "Epochs 80/80: \n",
      "Training cost 12.328784605422243|Validation cost 16.153581338597753\n",
      "The final average gradient is: 5.2765755542612836e-05\n",
      "The final learning rate used is: 0.12\n",
      "The Mean square error is: 32.30716267719551\n",
      "-------------------------------\n",
      "Epochs 80/80: \n",
      "Training cost 5.286369935725211|Validation cost 8.46193179483776\n",
      "The final average gradient is: 0.004520890070910528\n",
      "The final learning rate used is: 0.12\n",
      "The Mean square error is: 16.92386358967552\n",
      "-------------------------------\n",
      "Epochs 80/80: \n",
      "Training cost 3.956721854950219|Validation cost 5.47170796777702\n",
      "The final average gradient is: 0.010232948896068295\n",
      "The final learning rate used is: 0.1\n",
      "The Mean square error is: 10.94341593555404\n",
      "-------------------------------\n",
      "Epochs 80/80: \n",
      "Training cost 4.336717302557177|Validation cost 5.729655078504988\n",
      "The final average gradient is: 0.060280293003470056\n",
      "The final learning rate used is: 0.02\n",
      "The Mean square error is: 11.459310157009975\n",
      "-------------------------------\n"
     ]
    }
   ],
   "source": [
    "costs180, learning180, trainingloss180, validationloss180 = linear_regression_model(X_train_1,y_train,X_val_1,y_val,0.12,80)\n",
    "costs280, learning280, trainingloss280, validationloss280 = linear_regression_model(X_train_2,y_train,X_val_2,y_val,0.12,80)\n",
    "costs380, learning380, trainingloss380, validationloss380 = linear_regression_model(X_train_3,y_train,X_val_3,y_val,0.1,80)\n",
    "costs480, learning480, trainingloss480, validationloss480 = linear_regression_model(X_train_4,y_train,X_val_4,y_val,0.02,80)"
   ]
  },
  {
   "cell_type": "code",
   "execution_count": 89,
   "id": "13bf9cd3-cf66-4c49-8a1e-fac55d0a849c",
   "metadata": {},
   "outputs": [
    {
     "data": {
      "image/png": "[encoded data removed]",
      "text/plain": [
       "<Figure size 432x288 with 1 Axes>"
      ]
     },
     "metadata": {
      "needs_background": "light"
     },
     "output_type": "display_data"
    }
   ],
   "source": [
    "plt.plot(costs180)\n",
    "plt.plot(costs280)\n",
    "plt.plot(costs380)\n",
    "plt.plot(costs480)\n",
    "plt.xlabel('iterations')\n",
    "plt.ylabel('Training Loss')\n",
    "plt.legend([\"degree 1\", \"degree 2\", \"degree 3\", \"degree 4\"])\n",
    "plt.show()"
   ]
  },
  {
   "cell_type": "code",
   "execution_count": 90,
   "id": "239b540e-0f5f-443d-be18-a531f0eaf469",
   "metadata": {},
   "outputs": [
    {
     "name": "stdout",
     "output_type": "stream",
     "text": [
      "Epochs 100/100: \n",
      "Training cost 12.34067255214959|Validation cost 16.04088523378652\n",
      "The final average gradient is: 0.05312987669675048\n",
      "The final learning rate used is: 0.03\n",
      "The Mean square error is: 32.08177046757304\n",
      "-------------------------------\n",
      "Epochs 100/100: \n",
      "Training cost 5.30239659266286|Validation cost 8.431998517814417\n",
      "The final average gradient is: 0.011146706586806606\n",
      "The final learning rate used is: 0.06\n",
      "The Mean square error is: 16.863997035628834\n",
      "-------------------------------\n",
      "Epochs 100/100: \n",
      "Training cost 3.990348042982919|Validation cost 5.491014967834653\n",
      "The final average gradient is: 0.019075851609571516\n",
      "The final learning rate used is: 0.05\n",
      "The Mean square error is: 10.982029935669306\n",
      "-------------------------------\n",
      "Epochs 100/100: \n",
      "Training cost 4.293728656327726|Validation cost 5.703304531153622\n",
      "The final average gradient is: 0.05227550261565606\n",
      "The final learning rate used is: 0.02\n",
      "The Mean square error is: 11.406609062307243\n",
      "-------------------------------\n"
     ]
    }
   ],
   "source": [
    "costs1100, learning1100, trainingloss1100, validationloss1100 = linear_regression_model(X_train_1,y_train,X_val_1,y_val,0.03,100)\n",
    "costs2100, learning2100, trainingloss2100, validationloss2100 = linear_regression_model(X_train_2,y_train,X_val_2,y_val,0.06,100)\n",
    "costs3100, learning3100, trainingloss3100, validationloss3100 = linear_regression_model(X_train_3,y_train,X_val_3,y_val,0.05,100)\n",
    "costs4100, learning4100, trainingloss4100, validationloss4100 = linear_regression_model(X_train_4,y_train,X_val_4,y_val,0.02,100)"
   ]
  },
  {
   "cell_type": "code",
   "execution_count": 91,
   "id": "e72ba100-5fcf-43f5-84b2-1d1d7945880e",
   "metadata": {},
   "outputs": [
    {
     "data": {
      "image/png": "[encoded data removed]",
      "text/plain": [
       "<Figure size 432x288 with 1 Axes>"
      ]
     },
     "metadata": {
      "needs_background": "light"
     },
     "output_type": "display_data"
    }
   ],
   "source": [
    "plt.plot(costs1100)\n",
    "plt.plot(costs2100)\n",
    "plt.plot(costs3100)\n",
    "plt.plot(costs4100)\n",
    "plt.xlabel('iterations')\n",
    "plt.ylabel('Training Loss')\n",
    "plt.legend([\"degree 1\", \"degree 2\", \"degree 3\", \"degree 4\"])\n",
    "plt.show()"
   ]
  },
  {
   "cell_type": "code",
   "execution_count": 92,
   "id": "9cef4b27-9f61-4c15-a24e-cad30988cadc",
   "metadata": {},
   "outputs": [
    {
     "name": "stdout",
     "output_type": "stream",
     "text": [
      "Epochs 120/120: \n",
      "Training cost 12.33238001183733|Validation cost 16.096552324893786\n",
      "The final average gradient is: 0.023943720642535988\n",
      "The final learning rate used is: 0.03\n",
      "The Mean square error is: 32.19310464978757\n",
      "-------------------------------\n",
      "Epochs 120/120: \n",
      "Training cost 5.293714203286162|Validation cost 8.44276837800922\n",
      "The final average gradient is: 0.008277421999018823\n",
      "The final learning rate used is: 0.06\n",
      "The Mean square error is: 16.88553675601844\n",
      "-------------------------------\n",
      "Epochs 120/120: \n",
      "Training cost 3.9508908837808225|Validation cost 5.470882397030979\n",
      "The final average gradient is: 0.007396092380545921\n",
      "The final learning rate used is: 0.08\n",
      "The Mean square error is: 10.941764794061958\n",
      "-------------------------------\n",
      "Epochs 120/120: \n",
      "Training cost 4.256968810723536|Validation cost 5.679215919701384\n",
      "The final average gradient is: 0.047059540970616036\n",
      "The final learning rate used is: 0.02\n",
      "The Mean square error is: 11.358431839402767\n",
      "-------------------------------\n"
     ]
    }
   ],
   "source": [
    "costs1120, learning1120, trainingloss1120, validationloss1120 = linear_regression_model(X_train_1,y_train,X_val_1,y_val,0.03,120)\n",
    "costs2120, learning2120, trainingloss2120, validationloss2120 = linear_regression_model(X_train_2,y_train,X_val_2,y_val,0.06,120)\n",
    "costs3120, learning3120, trainingloss3120, validationloss3120 = linear_regression_model(X_train_3,y_train,X_val_3,y_val,0.08,120)\n",
    "costs4120, learning4120, trainingloss4120, validationloss4120 = linear_regression_model(X_train_4,y_train,X_val_4,y_val,0.02,120)"
   ]
  },
  {
   "cell_type": "code",
   "execution_count": 93,
   "id": "ab5a3456-eeb7-4607-adde-899441618d47",
   "metadata": {},
   "outputs": [
    {
     "data": {
      "image/png": "[encoded data removed]",
      "text/plain": [
       "<Figure size 432x288 with 1 Axes>"
      ]
     },
     "metadata": {
      "needs_background": "light"
     },
     "output_type": "display_data"
    }
   ],
   "source": [
    "plt.plot(costs1120)\n",
    "plt.plot(costs2120)\n",
    "plt.plot(costs3120)\n",
    "plt.plot(costs4120)\n",
    "plt.xlabel('iterations')\n",
    "plt.ylabel('Training Loss')\n",
    "plt.legend([\"degree 1\", \"degree 2\", \"degree 3\", \"degree 4\"])\n",
    "plt.show()"
   ]
  },
  {
   "cell_type": "code",
   "execution_count": 94,
   "id": "eb304055-1ab4-453a-95b9-acbd2214c61d",
   "metadata": {},
   "outputs": [
    {
     "name": "stdout",
     "output_type": "stream",
     "text": [
      "Epochs 140/140: \n",
      "Training cost 12.329900744624759|Validation cost 16.12454866054506\n",
      "The final average gradient is: 0.013420767785776024\n",
      "The final learning rate used is: 0.03\n",
      "The Mean square error is: 32.24909732109012\n",
      "-------------------------------\n",
      "Epochs 140/140: \n",
      "Training cost 5.288975934847927|Validation cost 8.452851561166481\n",
      "The final average gradient is: 0.006134412131182716\n",
      "The final learning rate used is: 0.06\n",
      "The Mean square error is: 16.905703122332962\n",
      "-------------------------------\n",
      "Epochs 140/140: \n",
      "Training cost 3.9632320006386705|Validation cost 5.4743208916156165\n",
      "The final average gradient is: 0.012530712458231653\n",
      "The final learning rate used is: 0.05\n",
      "The Mean square error is: 10.948641783231233\n",
      "-------------------------------\n",
      "Epochs 140/140: \n",
      "Training cost 4.137014215545971|Validation cost 5.591207926871288\n",
      "The final average gradient is: 0.03559299386973508\n",
      "The final learning rate used is: 0.03\n",
      "The Mean square error is: 11.182415853742576\n",
      "-------------------------------\n"
     ]
    }
   ],
   "source": [
    "costs1140, learning1140, trainingloss1140, validationloss1140 = linear_regression_model(X_train_1,y_train,X_val_1,y_val,0.03,140)\n",
    "costs2140, learning2140, trainingloss2140, validationloss2140 = linear_regression_model(X_train_2,y_train,X_val_2,y_val,0.06,140)\n",
    "costs3140, learning3140, trainingloss3140, validationloss3140 = linear_regression_model(X_train_3,y_train,X_val_3,y_val,0.05,140)\n",
    "costs4140, learning4140, trainingloss4140, validationloss4140 = linear_regression_model(X_train_4,y_train,X_val_4,y_val,0.03,140)"
   ]
  },
  {
   "cell_type": "code",
   "execution_count": 95,
   "id": "6842770c-97be-493c-9e51-1ae3b567c7fb",
   "metadata": {},
   "outputs": [
    {
     "data": {
      "image/png": "[encoded data removed]",
      "text/plain": [
       "<Figure size 432x288 with 1 Axes>"
      ]
     },
     "metadata": {
      "needs_background": "light"
     },
     "output_type": "display_data"
    }
   ],
   "source": [
    "plt.plot(costs1140)\n",
    "plt.plot(costs2140)\n",
    "plt.plot(costs3140)\n",
    "plt.plot(costs4140)\n",
    "plt.xlabel('iterations')\n",
    "plt.ylabel('Training Loss')\n",
    "plt.legend([\"degree 1\", \"degree 2\", \"degree 3\", \"degree 4\"])\n",
    "plt.show()"
   ]
  },
  {
   "cell_type": "code",
   "execution_count": 96,
   "id": "2b967e7b-05a7-4141-bf72-8183563cfe19",
   "metadata": {},
   "outputs": [
    {
     "name": "stdout",
     "output_type": "stream",
     "text": [
      "Epochs 160/160: \n",
      "Training cost 12.329136457289428|Validation cost 16.13864682654544\n",
      "The final average gradient is: 0.007499644591976084\n",
      "The final learning rate used is: 0.03\n",
      "The Mean square error is: 32.27729365309088\n",
      "-------------------------------\n",
      "Epochs 160/160: \n",
      "Training cost 5.2863900461815|Validation cost 8.46145612969436\n",
      "The final average gradient is: 0.0045351424181459595\n",
      "The final learning rate used is: 0.06\n",
      "The Mean square error is: 16.92291225938872\n",
      "-------------------------------\n",
      "Epochs 160/160: \n",
      "Training cost 3.946727094176023|Validation cost 5.472769933361952\n",
      "The final average gradient is: 0.003926812354065338\n",
      "The final learning rate used is: 0.08\n",
      "The Mean square error is: 10.945539866723903\n",
      "-------------------------------\n",
      "Epochs 160/160: \n",
      "Training cost 4.10818027167236|Validation cost 5.569872168657437\n",
      "The final average gradient is: 0.032935678875568544\n",
      "The final learning rate used is: 0.03\n",
      "The Mean square error is: 11.139744337314873\n",
      "-------------------------------\n"
     ]
    }
   ],
   "source": [
    "costs1160, learning1160, trainingloss1160, validationloss1160 = linear_regression_model(X_train_1,y_train,X_val_1,y_val,0.03,160)\n",
    "costs2160, learning2160, trainingloss2160, validationloss2160 = linear_regression_model(X_train_2,y_train,X_val_2,y_val,0.06,160)\n",
    "costs3160, learning3160, trainingloss3160, validationloss3160 = linear_regression_model(X_train_3,y_train,X_val_3,y_val,0.08,160)\n",
    "costs4160, learning4160, trainingloss4160, validationloss4160 = linear_regression_model(X_train_4,y_train,X_val_4,y_val,0.03,160)"
   ]
  },
  {
   "cell_type": "code",
   "execution_count": 97,
   "id": "c079014f-27e7-4856-a26b-239b681f6420",
   "metadata": {},
   "outputs": [
    {
     "data": {
      "image/png": "[encoded data removed]",
      "text/plain": [
       "<Figure size 432x288 with 1 Axes>"
      ]
     },
     "metadata": {
      "needs_background": "light"
     },
     "output_type": "display_data"
    }
   ],
   "source": [
    "plt.plot(costs1160)\n",
    "plt.plot(costs2160)\n",
    "plt.plot(costs3160)\n",
    "plt.plot(costs4160)\n",
    "plt.xlabel('iterations')\n",
    "plt.ylabel('Training Loss')\n",
    "plt.legend([\"degree 1\", \"degree 2\", \"degree 3\", \"degree 4\"])\n",
    "plt.show()"
   ]
  },
  {
   "cell_type": "code",
   "execution_count": 98,
   "id": "8df2dcbb-a230-47ef-8735-48d433b89d74",
   "metadata": {},
   "outputs": [
    {
     "name": "stdout",
     "output_type": "stream",
     "text": [
      "Epochs 180/180: \n",
      "Training cost 12.328896498557029|Validation cost 16.145813243180577\n",
      "The final average gradient is: 0.004187687596859649\n",
      "The final learning rate used is: 0.03\n",
      "The Mean square error is: 32.29162648636115\n",
      "-------------------------------\n",
      "Epochs 180/180: \n",
      "Training cost 5.284978807229196|Validation cost 8.468442333978466\n",
      "The final average gradient is: 0.003350896967079088\n",
      "The final learning rate used is: 0.06\n",
      "The Mean square error is: 16.93688466795693\n",
      "-------------------------------\n",
      "Epochs 180/180: \n",
      "Training cost 3.9460526080468097|Validation cost 5.473930044274698\n",
      "The final average gradient is: 0.002882771145073274\n",
      "The final learning rate used is: 0.08\n",
      "The Mean square error is: 10.947860088549396\n",
      "-------------------------------\n",
      "Epochs 180/180: \n",
      "Training cost 4.083465987442402|Validation cost 5.552203250539839\n",
      "The final average gradient is: 0.03050565439609988\n",
      "The final learning rate used is: 0.03\n",
      "The Mean square error is: 11.104406501079678\n",
      "-------------------------------\n"
     ]
    }
   ],
   "source": [
    "costs1180, learning1180, trainingloss1180, validationloss1180 = linear_regression_model(X_train_1,y_train,X_val_1,y_val,0.03,180)\n",
    "costs2180, learning2180, trainingloss2180, validationloss2180 = linear_regression_model(X_train_2,y_train,X_val_2,y_val,0.06,180)\n",
    "costs3180, learning3180, trainingloss3180, validationloss3180 = linear_regression_model(X_train_3,y_train,X_val_3,y_val,0.08,180)\n",
    "costs4180, learning4180, trainingloss4180, validationloss4180 = linear_regression_model(X_train_4,y_train,X_val_4,y_val,0.03,180)"
   ]
  },
  {
   "cell_type": "code",
   "execution_count": 99,
   "id": "f4c68beb-c90b-4cd0-9091-3df0446a921e",
   "metadata": {},
   "outputs": [
    {
     "data": {
      "image/png": "[encoded data removed]",
      "text/plain": [
       "<Figure size 432x288 with 1 Axes>"
      ]
     },
     "metadata": {
      "needs_background": "light"
     },
     "output_type": "display_data"
    }
   ],
   "source": [
    "plt.plot(costs1180)\n",
    "plt.plot(costs2180)\n",
    "plt.plot(costs3180)\n",
    "plt.plot(costs4180)\n",
    "plt.xlabel('iterations')\n",
    "plt.ylabel('Training Loss')\n",
    "plt.legend([\"degree 1\", \"degree 2\", \"degree 3\", \"degree 4\"])\n",
    "plt.show()"
   ]
  },
  {
   "cell_type": "code",
   "execution_count": 100,
   "id": "fab7cb03-5abc-4240-a659-beb42d3908dc",
   "metadata": {},
   "outputs": [
    {
     "name": "stdout",
     "output_type": "stream",
     "text": [
      "Epochs 200/200: \n",
      "Training cost 12.328820358129201|Validation cost 16.14950301979\n",
      "The final average gradient is: 0.0023396776530839043\n",
      "The final learning rate used is: 0.03\n",
      "The Mean square error is: 32.29900603958\n",
      "-------------------------------\n",
      "Epochs 200/200: \n",
      "Training cost 5.284208628852646|Validation cost 8.473946757200524\n",
      "The final average gradient is: 0.0024755601760464855\n",
      "The final learning rate used is: 0.06\n",
      "The Mean square error is: 16.94789351440105\n",
      "-------------------------------\n",
      "Epochs 200/200: \n",
      "Training cost 3.9453828582986734|Validation cost 5.4773961739499795\n",
      "The final average gradient is: 0.0007007981367460397\n",
      "The final learning rate used is: 0.11\n",
      "The Mean square error is: 10.954792347899959\n",
      "-------------------------------\n",
      "Epochs 200/200: \n",
      "Training cost 4.0622122571208585|Validation cost 5.537745854531001\n",
      "The final average gradient is: 0.028280062918643628\n",
      "The final learning rate used is: 0.03\n",
      "The Mean square error is: 11.075491709062002\n",
      "-------------------------------\n"
     ]
    }
   ],
   "source": [
    "costs1200, learning1200, trainingloss1200, validationloss1200 = linear_regression_model(X_train_1,y_train,X_val_1,y_val,0.03,200)\n",
    "costs2200, learning2200, trainingloss2200, validationloss2200 = linear_regression_model(X_train_2,y_train,X_val_2,y_val,0.06,200)\n",
    "costs3200, learning3200, trainingloss3200, validationloss3200 = linear_regression_model(X_train_3,y_train,X_val_3,y_val,0.11,200)\n",
    "costs4200, learning4200, trainingloss4200, validationloss4200 = linear_regression_model(X_train_4,y_train,X_val_4,y_val,0.03,200)"
   ]
  },
  {
   "cell_type": "code",
   "execution_count": 101,
   "id": "198b751b-b81f-4f0a-86c3-c4946d31e5da",
   "metadata": {},
   "outputs": [
    {
     "data": {
      "image/png": "[encoded data removed]",
      "text/plain": [
       "<Figure size 432x288 with 1 Axes>"
      ]
     },
     "metadata": {
      "needs_background": "light"
     },
     "output_type": "display_data"
    }
   ],
   "source": [
    "plt.plot(costs1200)\n",
    "plt.plot(costs2200)\n",
    "plt.plot(costs3200)\n",
    "plt.plot(costs4200)\n",
    "plt.xlabel('iterations')\n",
    "plt.ylabel('Training Loss')\n",
    "plt.legend([\"degree 1\", \"degree 2\", \"degree 3\", \"degree 4\"])\n",
    "plt.show()"
   ]
  },
  {
   "cell_type": "code",
   "execution_count": 102,
   "id": "244b4c32-ba97-4284-9e5b-16dc3f1c0209",
   "metadata": {},
   "outputs": [],
   "source": [
    "trainingloss_1 = [trainingloss120, trainingloss140, trainingloss160, trainingloss180, trainingloss1100, trainingloss1120, trainingloss1140, trainingloss1160, trainingloss1180, trainingloss1200]\n",
    "trainingloss_2 = [trainingloss220, trainingloss240, trainingloss260, trainingloss280, trainingloss2100, trainingloss2120, trainingloss2140, trainingloss2160, trainingloss2180, trainingloss2200]\n",
    "trainingloss_3 = [trainingloss320, trainingloss340, trainingloss360, trainingloss380, trainingloss3100, trainingloss3120, trainingloss3140, trainingloss3160, trainingloss3180, trainingloss3200]\n",
    "trainingloss_4 = [trainingloss420, trainingloss440, trainingloss460, trainingloss480, trainingloss4100, trainingloss4120, trainingloss4140, trainingloss4160, trainingloss4180, trainingloss4200]"
   ]
  },
  {
   "cell_type": "code",
   "execution_count": 103,
   "id": "b97a7002-d49c-45bf-bf3e-e555e328b0a6",
   "metadata": {},
   "outputs": [],
   "source": [
    "validationloss_1 = [validationloss120, validationloss140, validationloss160, validationloss180, validationloss1100, validationloss1120, validationloss1140, validationloss1160, validationloss1180, validationloss1200]\n",
    "validationloss_2 = [validationloss220, validationloss240, validationloss260, validationloss280, validationloss2100, validationloss2120, validationloss2140, validationloss2160, validationloss2180, validationloss2200]\n",
    "validationloss_3 = [validationloss320, validationloss340, validationloss360, validationloss380, validationloss3100, validationloss3120, validationloss3140, validationloss3160, validationloss3180, validationloss3200]\n",
    "validationloss_4 = [validationloss420, validationloss440, validationloss460, validationloss480, validationloss4100, validationloss4120, validationloss4140, validationloss4160, validationloss4180, validationloss4200]"
   ]
  },
  {
   "cell_type": "markdown",
   "id": "30fc9bb8-3bef-4a5e-a038-db1553623a6c",
   "metadata": {},
   "source": [
    "The graphs below are ussually underfitting (validation loss over training loss). However, this is not always the case because the test and train data is randomized"
   ]
  },
  {
   "cell_type": "code",
   "execution_count": 104,
   "id": "0392cb81-a96e-4b8a-bfce-51e25e4568be",
   "metadata": {},
   "outputs": [
    {
     "data": {
      "image/png": "[encoded data removed]",
      "text/plain": [
       "<Figure size 432x288 with 1 Axes>"
      ]
     },
     "metadata": {
      "needs_background": "light"
     },
     "output_type": "display_data"
    }
   ],
   "source": [
    "plt.plot(trainingloss_1)\n",
    "plt.plot(validationloss_1)\n",
    "\n",
    "plt.xlabel('m_samples (factor of 20)')\n",
    "plt.ylabel('Loss')\n",
    "plt.legend([\"Training Loss\", \"Validation Loss\"])\n",
    "plt.show()"
   ]
  },
  {
   "cell_type": "code",
   "execution_count": 105,
   "id": "edae0260-c1cb-4f6a-9082-44ee45076f69",
   "metadata": {},
   "outputs": [
    {
     "data": {
      "image/png": "[encoded data removed]",
      "text/plain": [
       "<Figure size 432x288 with 1 Axes>"
      ]
     },
     "metadata": {
      "needs_background": "light"
     },
     "output_type": "display_data"
    }
   ],
   "source": [
    "plt.plot(trainingloss_2)\n",
    "plt.plot(validationloss_2)\n",
    "\n",
    "plt.xlabel('m_samples (factor of 20)')\n",
    "plt.ylabel('Loss')\n",
    "plt.legend([\"Training Loss\", \"Validation Loss\"])\n",
    "plt.show()"
   ]
  },
  {
   "cell_type": "code",
   "execution_count": 106,
   "id": "bcd2663c-43ff-4920-a2cf-d25da9020765",
   "metadata": {},
   "outputs": [
    {
     "data": {
      "image/png": "[encoded data removed]",
      "text/plain": [
       "<Figure size 432x288 with 1 Axes>"
      ]
     },
     "metadata": {
      "needs_background": "light"
     },
     "output_type": "display_data"
    }
   ],
   "source": [
    "plt.plot(trainingloss_3)\n",
    "plt.plot(validationloss_3)\n",
    "\n",
    "plt.xlabel('m_samples (factor of 20)')\n",
    "plt.ylabel('Loss')\n",
    "plt.legend([\"Training Loss\", \"Validation Loss\"])\n",
    "plt.show()"
   ]
  },
  {
   "cell_type": "code",
   "execution_count": 107,
   "id": "cc1d0338-516f-4d24-8e4b-ce3951b417a6",
   "metadata": {},
   "outputs": [
    {
     "data": {
      "image/png": "[encoded data removed]",
      "text/plain": [
       "<Figure size 432x288 with 1 Axes>"
      ]
     },
     "metadata": {
      "needs_background": "light"
     },
     "output_type": "display_data"
    }
   ],
   "source": [
    "plt.plot(trainingloss_4)\n",
    "plt.plot(validationloss_4)\n",
    "\n",
    "plt.xlabel('m_samples (factor of 20)')\n",
    "plt.ylabel('Loss')\n",
    "plt.legend([\"Training Loss\", \"Validation Loss\"])\n",
    "plt.show()"
   ]
  },
  {
   "cell_type": "code",
   "execution_count": 108,
   "id": "21b5a178-d052-458e-be2e-037a313f6112",
   "metadata": {},
   "outputs": [
    {
     "data": {
      "image/png": "[encoded data removed]",
      "text/plain": [
       "<Figure size 432x288 with 1 Axes>"
      ]
     },
     "metadata": {
      "needs_background": "light"
     },
     "output_type": "display_data"
    }
   ],
   "source": [
    "plt.plot(trainingloss_1)\n",
    "plt.plot(trainingloss_2)\n",
    "plt.plot(trainingloss_3)\n",
    "plt.plot(trainingloss_4)\n",
    "plt.ylabel('Training Loss')\n",
    "plt.xlabel('m_samples (factor of 20)')\n",
    "plt.legend([\"degree 1\", \"degree 2\", \"degree 3\", \"degree 4\"])\n",
    "plt.show()"
   ]
  },
  {
   "cell_type": "markdown",
   "id": "ba5784f9-7b55-450a-bac6-78e90ef407e5",
   "metadata": {},
   "source": [
    "After analyzing the data, I will choose to use the 3rd degree polynomial regression with 100 epochs for part C."
   ]
  },
  {
   "cell_type": "code",
   "execution_count": 109,
   "id": "9bbd2158-28f1-4bb5-a521-e943a9ccdc84",
   "metadata": {},
   "outputs": [
    {
     "data": {
      "text/html": [
       "<div>\n",
       "<style scoped>\n",
       "    .dataframe tbody tr th:only-of-type {\n",
       "        vertical-align: middle;\n",
       "    }\n",
       "\n",
       "    .dataframe tbody tr th {\n",
       "        vertical-align: top;\n",
       "    }\n",
       "\n",
       "    .dataframe thead th {\n",
       "        text-align: right;\n",
       "    }\n",
       "</style>\n",
       "<table border=\"1\" class=\"dataframe\">\n",
       "  <thead>\n",
       "    <tr style=\"text-align: right;\">\n",
       "      <th></th>\n",
       "      <th>X1</th>\n",
       "      <th>X2</th>\n",
       "    </tr>\n",
       "  </thead>\n",
       "  <tbody>\n",
       "    <tr>\n",
       "      <th>0</th>\n",
       "      <td>0.750</td>\n",
       "      <td>-0.924</td>\n",
       "    </tr>\n",
       "    <tr>\n",
       "      <th>1</th>\n",
       "      <td>-0.811</td>\n",
       "      <td>0.931</td>\n",
       "    </tr>\n",
       "    <tr>\n",
       "      <th>2</th>\n",
       "      <td>1.640</td>\n",
       "      <td>0.126</td>\n",
       "    </tr>\n",
       "    <tr>\n",
       "      <th>3</th>\n",
       "      <td>-0.389</td>\n",
       "      <td>-1.278</td>\n",
       "    </tr>\n",
       "    <tr>\n",
       "      <th>4</th>\n",
       "      <td>-1.953</td>\n",
       "      <td>0.336</td>\n",
       "    </tr>\n",
       "  </tbody>\n",
       "</table>\n",
       "</div>"
      ],
      "text/plain": [
       "      X1     X2\n",
       "0  0.750 -0.924\n",
       "1 -0.811  0.931\n",
       "2  1.640  0.126\n",
       "3 -0.389 -1.278\n",
       "4 -1.953  0.336"
      ]
     },
     "execution_count": 109,
     "metadata": {},
     "output_type": "execute_result"
    }
   ],
   "source": [
    "df2 = pd.read_csv('Regression-Test.txt', sep=',', header=None, names=[\"X1\", \"X2\"])\n",
    "df2.head()"
   ]
  },
  {
   "cell_type": "code",
   "execution_count": 110,
   "id": "797af53c-342b-4bde-a70e-4160722bb409",
   "metadata": {},
   "outputs": [
    {
     "data": {
      "text/plain": [
       "(50, 2)"
      ]
     },
     "execution_count": 110,
     "metadata": {},
     "output_type": "execute_result"
    }
   ],
   "source": [
    "X1 = df2[['X1','X2']].to_numpy()\n",
    "X1.shape"
   ]
  },
  {
   "cell_type": "code",
   "execution_count": 111,
   "id": "09d0e16b-2767-45d9-996f-f3fd3a838555",
   "metadata": {},
   "outputs": [
    {
     "name": "stdout",
     "output_type": "stream",
     "text": [
      "[(0,), (1,), (0, 0), (0, 1), (1, 1), (0, 0, 0), (0, 0, 1), (0, 1, 1), (1, 1, 1)]\n"
     ]
    }
   ],
   "source": [
    "print(powers_3)"
   ]
  },
  {
   "cell_type": "code",
   "execution_count": 112,
   "id": "b2d4728e-bac4-43f8-91ee-4e584fb31cc7",
   "metadata": {},
   "outputs": [
    {
     "data": {
      "text/plain": [
       "(50, 9)"
      ]
     },
     "execution_count": 112,
     "metadata": {},
     "output_type": "execute_result"
    }
   ],
   "source": [
    "X3=transform_data(X1,powers_3)\n",
    "X3.shape"
   ]
  },
  {
   "cell_type": "code",
   "execution_count": 113,
   "id": "5c815526-e560-4e63-9041-0ed6c18703fd",
   "metadata": {},
   "outputs": [],
   "source": [
    "def linear_regression_model_extract_bias_and_weights(X_train, y_train, X_val, y_val, learning_rate, epochs):\n",
    "    lenw = X_train.shape[0]\n",
    "    w,b = initialize_parameters(lenw)\n",
    "    costs_train = []\n",
    "    m_train = X_train.shape[1]\n",
    "    m_val = X_val.shape[1]\n",
    "    for i in range(1,epochs+1):\n",
    "        z_train = forward_prop(X_train,w,b)\n",
    "        cost_train = cost_function(z_train, y_train)\n",
    "        dw,db = back_prop(X_train, y_train, z_train)\n",
    "        w,b = gradient_descent_update(w,b,dw,db,learning_rate)\n",
    "        \n",
    "        dw_avg = np.mean(np.abs(dw))\n",
    "        \n",
    "        \n",
    "        if i%10==0:\n",
    "            costs_train.append(cost_train)\n",
    "            \n",
    "        MAE_train = (1/m_train)*np.sum(np.abs(z_train-y_train))\n",
    "        MSE_train = (1/m_train)*np.sum(np.square(z_train-y_train))\n",
    "        \n",
    "        z_val = forward_prop(X_val,w,b)\n",
    "        cost_val = cost_function(z_val, y_val)\n",
    "        MAE_val = (1/m_val)*np.sum(np.abs(z_val-y_val))\n",
    "        MSE_val = (1/m_val)*np.sum(np.square(z_val-y_val))\n",
    "        #print('Epochs ' +str(i)+'/'+str(epochs)+': ')\n",
    "        #print('Training cost '+str(cost_train)+ '|'+'Validation cost '+str(cost_val))\n",
    "        #print('MAE cost '+str(MAE_train)+ '|'+'Validation MAE '+str(MAE_val))\n",
    "        #print('MSE cost '+str(MAE_train)+ '|'+'Validation MSE '+str(MSE_val))\n",
    "        #print('gradient' +str(dw))\n",
    "        #print(dw_avg)\n",
    "\n",
    "    print('Epochs ' +str(i)+'/'+str(epochs)+': ')\n",
    "    print('Training cost '+str(cost_train)+ '|'+'Validation cost '+str(cost_val))\n",
    "    #print('MSE cost '+str(MAE_train)+ '|'+'Validation MSE '+str(MSE_val))\n",
    "    #print('gradient' +str(dw))\n",
    "    print('The final average gradient is: '+ str(dw_avg))\n",
    "    print('The final learning rate used is: '+ str(learning_rate))\n",
    "    print('The weights used are: '+ str(w))\n",
    "    print('The bias used is: '+ str(b))\n",
    "    print('-------------------------------')\n",
    "    \n",
    "    #plt.plot(costs_train)\n",
    "    #plt.xlabel('iterations')\n",
    "    #plt.ylabel('Training cost')\n",
    "    #plt.title('Learning rate '+str(learning_rate))\n",
    "    #plt.show()\n",
    "\n",
    "    \n",
    "    return w, b"
   ]
  },
  {
   "cell_type": "code",
   "execution_count": 51,
   "id": "0a8806bb-b495-4e58-bc20-a6cfe3b41d99",
   "metadata": {},
   "outputs": [
    {
     "name": "stdout",
     "output_type": "stream",
     "text": [
      "Epochs 100/100: \n",
      "Training cost 4.0953685233887125|Validation cost 5.132464039003205\n",
      "The final average gradient is: 0.0067274994120317955\n",
      "The final learning rate used is: 0.1\n",
      "The weights used are: [[-0.47781746  0.19377995  1.26696358  2.41819674  0.80746139  0.91264962\n",
      "  -0.08388055  0.33487498  0.98754307]]\n",
      "The bias used is: -1.167327547428704\n",
      "-------------------------------\n"
     ]
    }
   ],
   "source": [
    "w, b = linear_regression_model_extract_bias_and_weights(X_train_3,y_train,X_val_3,y_val,0.1,100)"
   ]
  },
  {
   "cell_type": "code",
   "execution_count": 52,
   "id": "ed48706a-23e5-4a5e-b391-7158e5775a7e",
   "metadata": {},
   "outputs": [
    {
     "data": {
      "text/plain": [
       "(50, 9)"
      ]
     },
     "execution_count": 52,
     "metadata": {},
     "output_type": "execute_result"
    }
   ],
   "source": [
    "X3.shape"
   ]
  },
  {
   "cell_type": "code",
   "execution_count": 53,
   "id": "fa8a2fdd-7b40-4cd8-9727-bfd18b0ab950",
   "metadata": {},
   "outputs": [],
   "source": [
    "w=w.T"
   ]
  },
  {
   "cell_type": "code",
   "execution_count": 54,
   "id": "7321acf0-09cd-4e4d-b02e-3043e16c38c3",
   "metadata": {},
   "outputs": [
    {
     "data": {
      "text/plain": [
       "(9, 1)"
      ]
     },
     "execution_count": 54,
     "metadata": {},
     "output_type": "execute_result"
    }
   ],
   "source": [
    "w.shape"
   ]
  },
  {
   "cell_type": "code",
   "execution_count": 55,
   "id": "01fc5962-66d7-4a32-be49-caff01560505",
   "metadata": {},
   "outputs": [
    {
     "data": {
      "text/plain": [
       "-1.167327547428704"
      ]
     },
     "execution_count": 55,
     "metadata": {},
     "output_type": "execute_result"
    }
   ],
   "source": [
    "b"
   ]
  },
  {
   "cell_type": "code",
   "execution_count": 56,
   "id": "c5d0f161-d6a5-4688-84e5-5c3a3dd88f90",
   "metadata": {},
   "outputs": [
    {
     "data": {
      "text/plain": [
       "array([[-2.11450524],\n",
       "       [-0.8687386 ],\n",
       "       [ 6.00152336],\n",
       "       [-0.8279859 ],\n",
       "       [-3.77459491],\n",
       "       [ 1.57166534],\n",
       "       [-1.10721901],\n",
       "       [-1.35892463],\n",
       "       [-0.06111211],\n",
       "       [-3.3264058 ],\n",
       "       [-1.96944444],\n",
       "       [-0.27829884],\n",
       "       [-1.00717716],\n",
       "       [-4.61060964],\n",
       "       [ 0.06171569],\n",
       "       [ 6.38129455],\n",
       "       [-1.56763184],\n",
       "       [ 1.25845119],\n",
       "       [-1.23364912],\n",
       "       [ 8.54548162],\n",
       "       [-0.95579678],\n",
       "       [ 0.31971714],\n",
       "       [ 2.131116  ],\n",
       "       [-1.26078874],\n",
       "       [-1.99531148],\n",
       "       [ 0.4560447 ],\n",
       "       [ 1.87054913],\n",
       "       [-0.80385252],\n",
       "       [ 3.37477226],\n",
       "       [ 2.61212602],\n",
       "       [-2.55186095],\n",
       "       [-1.10535883],\n",
       "       [ 4.71072109],\n",
       "       [ 1.059195  ],\n",
       "       [ 1.75612128],\n",
       "       [-0.79537209],\n",
       "       [ 6.12023461],\n",
       "       [-7.50308521],\n",
       "       [ 1.29418749],\n",
       "       [ 0.87732214],\n",
       "       [-5.4000593 ],\n",
       "       [-2.26027299],\n",
       "       [ 0.08428912],\n",
       "       [-2.35234294],\n",
       "       [ 3.49208525],\n",
       "       [-0.39513822],\n",
       "       [ 2.86690466],\n",
       "       [ 3.13396797],\n",
       "       [-0.13468329],\n",
       "       [ 6.37695568]])"
      ]
     },
     "execution_count": 56,
     "metadata": {},
     "output_type": "execute_result"
    }
   ],
   "source": [
    "new_data =np.dot(X3,w)+b\n",
    "new_data"
   ]
  },
  {
   "cell_type": "code",
   "execution_count": 57,
   "id": "b2cfb81c-0097-4c0a-b8ec-fa76341f7167",
   "metadata": {},
   "outputs": [
    {
     "name": "stdout",
     "output_type": "stream",
     "text": [
      "Array:\n",
      " [[-2.11450524]\n",
      " [-0.8687386 ]\n",
      " [ 6.00152336]\n",
      " [-0.8279859 ]\n",
      " [-3.77459491]\n",
      " [ 1.57166534]\n",
      " [-1.10721901]\n",
      " [-1.35892463]\n",
      " [-0.06111211]\n",
      " [-3.3264058 ]\n",
      " [-1.96944444]\n",
      " [-0.27829884]\n",
      " [-1.00717716]\n",
      " [-4.61060964]\n",
      " [ 0.06171569]\n",
      " [ 6.38129455]\n",
      " [-1.56763184]\n",
      " [ 1.25845119]\n",
      " [-1.23364912]\n",
      " [ 8.54548162]\n",
      " [-0.95579678]\n",
      " [ 0.31971714]\n",
      " [ 2.131116  ]\n",
      " [-1.26078874]\n",
      " [-1.99531148]\n",
      " [ 0.4560447 ]\n",
      " [ 1.87054913]\n",
      " [-0.80385252]\n",
      " [ 3.37477226]\n",
      " [ 2.61212602]\n",
      " [-2.55186095]\n",
      " [-1.10535883]\n",
      " [ 4.71072109]\n",
      " [ 1.059195  ]\n",
      " [ 1.75612128]\n",
      " [-0.79537209]\n",
      " [ 6.12023461]\n",
      " [-7.50308521]\n",
      " [ 1.29418749]\n",
      " [ 0.87732214]\n",
      " [-5.4000593 ]\n",
      " [-2.26027299]\n",
      " [ 0.08428912]\n",
      " [-2.35234294]\n",
      " [ 3.49208525]\n",
      " [-0.39513822]\n",
      " [ 2.86690466]\n",
      " [ 3.13396797]\n",
      " [-0.13468329]\n",
      " [ 6.37695568]]\n"
     ]
    }
   ],
   "source": [
    "print('Array:\\n', new_data)\n",
    "file = open(\"file1.txt\", \"w+\")\n",
    " \n",
    "# Saving the array in a text file\n",
    "content = str(new_data)\n",
    "file.write(content)\n",
    "file.close()"
   ]
  },
  {
   "cell_type": "code",
   "execution_count": 58,
   "id": "767acfb6-4812-4419-9545-26fe8689b690",
   "metadata": {},
   "outputs": [
    {
     "data": {
      "text/html": [
       "<div>\n",
       "<style scoped>\n",
       "    .dataframe tbody tr th:only-of-type {\n",
       "        vertical-align: middle;\n",
       "    }\n",
       "\n",
       "    .dataframe tbody tr th {\n",
       "        vertical-align: top;\n",
       "    }\n",
       "\n",
       "    .dataframe thead th {\n",
       "        text-align: right;\n",
       "    }\n",
       "</style>\n",
       "<table border=\"1\" class=\"dataframe\">\n",
       "  <thead>\n",
       "    <tr style=\"text-align: right;\">\n",
       "      <th></th>\n",
       "      <th>X1</th>\n",
       "      <th>X2</th>\n",
       "      <th>X3</th>\n",
       "      <th>X4</th>\n",
       "      <th>X5</th>\n",
       "      <th>X6</th>\n",
       "      <th>X7</th>\n",
       "      <th>X8</th>\n",
       "      <th>X9</th>\n",
       "      <th>y</th>\n",
       "    </tr>\n",
       "  </thead>\n",
       "  <tbody>\n",
       "    <tr>\n",
       "      <th>0</th>\n",
       "      <td>0.750</td>\n",
       "      <td>-0.924</td>\n",
       "      <td>0.562500</td>\n",
       "      <td>-0.693000</td>\n",
       "      <td>0.853776</td>\n",
       "      <td>0.421875</td>\n",
       "      <td>-0.519750</td>\n",
       "      <td>0.640332</td>\n",
       "      <td>-0.788889</td>\n",
       "      <td>-2.114505</td>\n",
       "    </tr>\n",
       "    <tr>\n",
       "      <th>1</th>\n",
       "      <td>-0.811</td>\n",
       "      <td>0.931</td>\n",
       "      <td>0.657721</td>\n",
       "      <td>-0.755041</td>\n",
       "      <td>0.866761</td>\n",
       "      <td>-0.533412</td>\n",
       "      <td>0.612338</td>\n",
       "      <td>-0.702943</td>\n",
       "      <td>0.806954</td>\n",
       "      <td>-0.868739</td>\n",
       "    </tr>\n",
       "    <tr>\n",
       "      <th>2</th>\n",
       "      <td>1.640</td>\n",
       "      <td>0.126</td>\n",
       "      <td>2.689600</td>\n",
       "      <td>0.206640</td>\n",
       "      <td>0.015876</td>\n",
       "      <td>4.410944</td>\n",
       "      <td>0.338890</td>\n",
       "      <td>0.026037</td>\n",
       "      <td>0.002000</td>\n",
       "      <td>6.001523</td>\n",
       "    </tr>\n",
       "    <tr>\n",
       "      <th>3</th>\n",
       "      <td>-0.389</td>\n",
       "      <td>-1.278</td>\n",
       "      <td>0.151321</td>\n",
       "      <td>0.497142</td>\n",
       "      <td>1.633284</td>\n",
       "      <td>-0.058864</td>\n",
       "      <td>-0.193388</td>\n",
       "      <td>-0.635347</td>\n",
       "      <td>-2.087337</td>\n",
       "      <td>-0.827986</td>\n",
       "    </tr>\n",
       "    <tr>\n",
       "      <th>4</th>\n",
       "      <td>-1.953</td>\n",
       "      <td>0.336</td>\n",
       "      <td>3.814209</td>\n",
       "      <td>-0.656208</td>\n",
       "      <td>0.112896</td>\n",
       "      <td>-7.449150</td>\n",
       "      <td>1.281574</td>\n",
       "      <td>-0.220486</td>\n",
       "      <td>0.037933</td>\n",
       "      <td>-3.774595</td>\n",
       "    </tr>\n",
       "  </tbody>\n",
       "</table>\n",
       "</div>"
      ],
      "text/plain": [
       "      X1     X2        X3        X4        X5        X6        X7        X8  \\\n",
       "0  0.750 -0.924  0.562500 -0.693000  0.853776  0.421875 -0.519750  0.640332   \n",
       "1 -0.811  0.931  0.657721 -0.755041  0.866761 -0.533412  0.612338 -0.702943   \n",
       "2  1.640  0.126  2.689600  0.206640  0.015876  4.410944  0.338890  0.026037   \n",
       "3 -0.389 -1.278  0.151321  0.497142  1.633284 -0.058864 -0.193388 -0.635347   \n",
       "4 -1.953  0.336  3.814209 -0.656208  0.112896 -7.449150  1.281574 -0.220486   \n",
       "\n",
       "         X9         y  \n",
       "0 -0.788889 -2.114505  \n",
       "1  0.806954 -0.868739  \n",
       "2  0.002000  6.001523  \n",
       "3 -2.087337 -0.827986  \n",
       "4  0.037933 -3.774595  "
      ]
     },
     "execution_count": 58,
     "metadata": {},
     "output_type": "execute_result"
    }
   ],
   "source": [
    "Xvals = pd.DataFrame(X3, columns = ['X1','X2','X3','X4','X5','X6','X7','X8','X9'])\n",
    "Xvals['y'] = new_data.tolist()\n",
    "Xvals['y'] = Xvals['y'].str[0]\n",
    "Xvals.head()"
   ]
  },
  {
   "cell_type": "code",
   "execution_count": 59,
   "id": "43c53f75-0dbb-4fb2-925b-8e3b9151abf1",
   "metadata": {},
   "outputs": [],
   "source": [
    "shuffle_df = Xvals.sample(frac=1)\n",
    "train_size = int(0.8 * len(Xvals))\n",
    "train_set = shuffle_df[:train_size]\n",
    "test_set = shuffle_df[train_size:]"
   ]
  },
  {
   "cell_type": "code",
   "execution_count": 60,
   "id": "1d9b2a1f-b224-4a0a-b8a0-a496d7d3ee9e",
   "metadata": {},
   "outputs": [],
   "source": [
    "X_train = train_set[['X1','X2','X3','X4','X5','X6','X7','X8','X9']].to_numpy()\n",
    "X_test = test_set[['X1','X2','X3','X4','X5','X6','X7','X8','X9']].to_numpy()\n",
    "y_train = train_set[['y']].to_numpy()\n",
    "y_test = test_set[['y']].to_numpy()"
   ]
  },
  {
   "cell_type": "code",
   "execution_count": 61,
   "id": "4be9d90c-8110-44c5-afd3-ef0d2721977c",
   "metadata": {},
   "outputs": [],
   "source": [
    "X_train = X_train.T\n",
    "y_train = y_train.T\n",
    "X_test = X_test.T\n",
    "y_test = y_test.T"
   ]
  },
  {
   "cell_type": "code",
   "execution_count": 62,
   "id": "358baffa-b00d-486f-a209-f929bd0b27c6",
   "metadata": {},
   "outputs": [
    {
     "name": "stdout",
     "output_type": "stream",
     "text": [
      "(9, 40)\n",
      "(1, 40)\n",
      "(9, 10)\n",
      "(1, 10)\n"
     ]
    }
   ],
   "source": [
    "print(X_train.shape)\n",
    "print(y_train.shape)\n",
    "print(X_test.shape)\n",
    "print(y_test.shape)"
   ]
  },
  {
   "cell_type": "code",
   "execution_count": 63,
   "id": "0da6236c-b1ae-4164-8241-a315d1d42a6f",
   "metadata": {},
   "outputs": [
    {
     "name": "stdout",
     "output_type": "stream",
     "text": [
      "Epochs 100/100: \n",
      "Training cost 0.03127961367794762|Validation cost 0.03663376205928477\n",
      "The final average gradient is: 0.018745018990723394\n",
      "The final learning rate used is: 0.1\n",
      "The Mean square error is: 0.07326752411856954\n",
      "-------------------------------\n"
     ]
    }
   ],
   "source": [
    "costs5, learning5, trainingloss5, validationloss5 = linear_regression_model(X_train,y_train,X_test,y_test,0.1,100)"
   ]
  },
  {
   "cell_type": "markdown",
   "id": "611f00d2-4a91-4503-a676-58169cd20d30",
   "metadata": {},
   "source": [
    "The low sample loss (mean squared error) confirms the accuracy"
   ]
  }
 ],
 "metadata": {
  "kernelspec": {
   "display_name": "Python 3 (ipykernel)",
   "language": "python",
   "name": "python3"
  },
  "language_info": {
   "codemirror_mode": {
    "name": "ipython",
    "version": 3
   },
   "file_extension": ".py",
   "mimetype": "text/x-python",
   "name": "python",
   "nbconvert_exporter": "python",
   "pygments_lexer": "ipython3",
   "version": "3.9.7"
  }
 },
 "nbformat": 4,
 "nbformat_minor": 5
}
