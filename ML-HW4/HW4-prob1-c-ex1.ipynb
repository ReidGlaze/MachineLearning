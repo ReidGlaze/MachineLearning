{
 "cells": [
  {
   "cell_type": "code",
   "execution_count": 26,
   "id": "03a443ea",
   "metadata": {},
   "outputs": [],
   "source": [
    "import numpy as np\n",
    "import pandas as pd\n",
    "import matplotlib\n",
    "import matplotlib.pyplot as plt"
   ]
  },
  {
   "cell_type": "code",
   "execution_count": 11,
   "id": "0befa688",
   "metadata": {},
   "outputs": [
    {
     "data": {
      "text/html": [
       "<div>\n",
       "<style scoped>\n",
       "    .dataframe tbody tr th:only-of-type {\n",
       "        vertical-align: middle;\n",
       "    }\n",
       "\n",
       "    .dataframe tbody tr th {\n",
       "        vertical-align: top;\n",
       "    }\n",
       "\n",
       "    .dataframe thead th {\n",
       "        text-align: right;\n",
       "    }\n",
       "</style>\n",
       "<table border=\"1\" class=\"dataframe\">\n",
       "  <thead>\n",
       "    <tr style=\"text-align: right;\">\n",
       "      <th></th>\n",
       "      <th>Col1</th>\n",
       "      <th>Col2</th>\n",
       "      <th>Class</th>\n",
       "    </tr>\n",
       "  </thead>\n",
       "  <tbody>\n",
       "    <tr>\n",
       "      <th>0</th>\n",
       "      <td>-0.22</td>\n",
       "      <td>0.59</td>\n",
       "      <td>-1</td>\n",
       "    </tr>\n",
       "    <tr>\n",
       "      <th>1</th>\n",
       "      <td>-0.35</td>\n",
       "      <td>0.12</td>\n",
       "      <td>-1</td>\n",
       "    </tr>\n",
       "    <tr>\n",
       "      <th>2</th>\n",
       "      <td>0.36</td>\n",
       "      <td>0.80</td>\n",
       "      <td>1</td>\n",
       "    </tr>\n",
       "    <tr>\n",
       "      <th>3</th>\n",
       "      <td>-0.34</td>\n",
       "      <td>0.10</td>\n",
       "      <td>-1</td>\n",
       "    </tr>\n",
       "    <tr>\n",
       "      <th>4</th>\n",
       "      <td>0.44</td>\n",
       "      <td>0.77</td>\n",
       "      <td>1</td>\n",
       "    </tr>\n",
       "  </tbody>\n",
       "</table>\n",
       "</div>"
      ],
      "text/plain": [
       "   Col1  Col2  Class\n",
       "0 -0.22  0.59     -1\n",
       "1 -0.35  0.12     -1\n",
       "2  0.36  0.80      1\n",
       "3 -0.34  0.10     -1\n",
       "4  0.44  0.77      1"
      ]
     },
     "execution_count": 11,
     "metadata": {},
     "output_type": "execute_result"
    }
   ],
   "source": [
    "df = pd.read_csv('Classify-2DwLabels-1.txt', sep=',', header=None, names=[\"Col1\", \"Col2\", \"Class\"])\n",
    "df[\"Class\"] = df[[\"Class\"]].replace(0,-1)\n",
    "df.head()"
   ]
  },
  {
   "cell_type": "code",
   "execution_count": 12,
   "id": "6fb723fc",
   "metadata": {},
   "outputs": [
    {
     "name": "stdout",
     "output_type": "stream",
     "text": [
      "143 originally classified as 1\n",
      "107 originally classified as -1\n"
     ]
    }
   ],
   "source": [
    "df1 = df[df['Class'] == 1]\n",
    "df2 = df[df['Class'] == -1]\n",
    "df1 = df1.drop(['Class'], axis=1)\n",
    "df2 = df2.drop(['Class'], axis=1)\n",
    "x_1 = df1.to_numpy()\n",
    "x_2 = df2.to_numpy()\n",
    "m1 = df1.shape[0]\n",
    "m2 = df2.shape[0]\n",
    "df1_sum = df1.sum(axis=0)\n",
    "df2_sum = df2.sum(axis=0)\n",
    "df1_mean = df1_sum/m1\n",
    "df2_mean = df2_sum/m2\n",
    "mean_1 = df1_mean.to_numpy()\n",
    "mean_2 = df2_mean.to_numpy()\n",
    "print(x_1.shape[0], 'originally classified as 1')\n",
    "print(x_2.shape[0], 'originally classified as -1')"
   ]
  },
  {
   "cell_type": "code",
   "execution_count": 13,
   "id": "509b134c",
   "metadata": {},
   "outputs": [],
   "source": [
    "takenorm_1_1 = x_1-mean_1\n",
    "takenorm_1_2 = x_1-mean_2\n",
    "takenorm_2_1 = x_2-mean_1\n",
    "takenorm_2_2 = x_2-mean_2\n",
    "norm_1_1 = []\n",
    "norm_1_2 = []\n",
    "classify_as_1 = []\n",
    "classify_as_neg1 = []\n",
    "for i in range (0,m1):\n",
    "    i1 = np.sqrt((takenorm_1_1[i,0]**2) + (takenorm_1_1[i,1]**2))\n",
    "    norm_1_1.append(i1)\n",
    "    i2 = np.sqrt((takenorm_1_2[i,0]**2) + (takenorm_1_2[i,1]**2))\n",
    "    norm_1_2.append(i2)\n",
    "norm_1_1 = np.array(norm_1_1)\n",
    "norm_1_2 = np.array(norm_1_2)\n",
    "classify_1 = []\n",
    "error_1 = 0\n",
    "for i in range (0,m1):\n",
    "    if norm_1_1[i] < norm_1_2[i]:\n",
    "        classify_1.append(1)\n",
    "        classify_as_1.append(x_1[i])\n",
    "    else:\n",
    "        classify_1.append(0)\n",
    "        error_1 = error_1 + 1\n",
    "        classify_as_neg1.append(x_1[i])\n",
    "norm_2_1 = []\n",
    "norm_2_2 = []\n",
    "for i in range (0,m2):\n",
    "    i1 = np.sqrt((takenorm_2_1[i,0]**2) + (takenorm_2_1[i,1]**2))\n",
    "    norm_2_1.append(i1)\n",
    "    i2 = np.sqrt((takenorm_2_2[i,0]**2) + (takenorm_2_2[i,1]**2))\n",
    "    norm_2_2.append(i2)\n",
    "norm_2_1 = np.array(norm_2_1)\n",
    "norm_2_2 = np.array(norm_2_2)\n",
    "classify_2 = []\n",
    "error_2 = 0\n",
    "for i in range (0,m2):\n",
    "    if norm_2_2[i] < norm_2_1[i]:\n",
    "        classify_2.append(1)\n",
    "        classify_as_neg1.append(x_2[i])\n",
    "    else:\n",
    "        classify_2.append(0)\n",
    "        error_2 = error_2 + 1\n",
    "        classify_as_1.append(x_2[i])"
   ]
  },
  {
   "cell_type": "code",
   "execution_count": 14,
   "id": "dac58100",
   "metadata": {},
   "outputs": [
    {
     "name": "stdout",
     "output_type": "stream",
     "text": [
      "142 classified as 1\n",
      "108 classified as -1\n",
      "The number of missclassified points is 1 out of 250\n"
     ]
    }
   ],
   "source": [
    "classify_as_1 = np.array(classify_as_1)\n",
    "classify_as_neg1 = np.array(classify_as_neg1)\n",
    "print(classify_as_1.shape[0], 'classified as 1')\n",
    "print(classify_as_neg1.shape[0], 'classified as -1')\n",
    "error = error_1 + error_2\n",
    "print('The number of missclassified points is', error, 'out of', df.shape[0])"
   ]
  },
  {
   "cell_type": "code",
   "execution_count": 30,
   "id": "06d2cb90",
   "metadata": {},
   "outputs": [
    {
     "data": {
      "image/png": "[encoded data removed]",
      "text/plain": [
       "<Figure size 432x288 with 2 Axes>"
      ]
     },
     "metadata": {
      "needs_background": "light"
     },
     "output_type": "display_data"
    }
   ],
   "source": [
    "fig = plt.figure()\n",
    "ax1 = fig.add_subplot(121) \n",
    "ax2 = fig.add_subplot(122) \n",
    "ax1.scatter(x_1[:,0], x_1[:,1], c='red')\n",
    "ax1.scatter(x_2[:,0], x_2[:,1], c='blue')\n",
    "ax1.title.set_text(\"Original Classification\")\n",
    "ax2.scatter(classify_as_1[:,0], classify_as_1[:,1], c='red')\n",
    "ax2.scatter(classify_as_neg1[:,0], classify_as_neg1[:,1], c='blue')\n",
    "ax2.title.set_text(\"Classification Using New Classifier\")\n",
    "plt.show()"
   ]
  },
  {
   "cell_type": "code",
   "execution_count": null,
   "id": "0e8133d0",
   "metadata": {},
   "outputs": [],
   "source": []
  }
 ],
 "metadata": {
  "kernelspec": {
   "display_name": "Python 3 (ipykernel)",
   "language": "python",
   "name": "python3"
  },
  "language_info": {
   "codemirror_mode": {
    "name": "ipython",
    "version": 3
   },
   "file_extension": ".py",
   "mimetype": "text/x-python",
   "name": "python",
   "nbconvert_exporter": "python",
   "pygments_lexer": "ipython3",
   "version": "3.9.7"
  }
 },
 "nbformat": 4,
 "nbformat_minor": 5
}
